{
 "cells": [
  {
   "cell_type": "code",
   "execution_count": 114,
   "metadata": {},
   "outputs": [],
   "source": [
    "# Import libraries \n",
    "import nltk\n",
    "import requests\n",
    "from bs4 import BeautifulSoup\n",
    "from nltk.corpus import stopwords\n",
    "from lxml.html.clean import Cleaner\n",
    "from nltk.tokenize import word_tokenize\n",
    "from string import punctuation\n",
    "from nltk.tokenize import sent_tokenize\n",
    "from collections import defaultdict\n",
    "from heapq import nlargest"
   ]
  },
  {
   "cell_type": "code",
   "execution_count": 115,
   "metadata": {},
   "outputs": [],
   "source": [
    "# Define URL \n",
    "url = 'https://www.washingtonpost.com/news/the-switch/wp/2016/05/02/hulu-may-soon-offer-live-tv-including-sports/'"
   ]
  },
  {
   "cell_type": "code",
   "execution_count": 116,
   "metadata": {},
   "outputs": [],
   "source": [
    "# download the web page \n",
    "webpage = requests.get(url)"
   ]
  },
  {
   "cell_type": "code",
   "execution_count": null,
   "metadata": {},
   "outputs": [],
   "source": [
    "# Create a web page of downloaded page using lxml parser\n",
    "my_soup = BeautifulSoup(webpage.text, \"lxml\")"
   ]
  },
  {
   "cell_type": "code",
   "execution_count": 117,
   "metadata": {},
   "outputs": [
    {
     "data": {
      "text/plain": [
       "'   The Switch   Hulu may soon offer live TV, including sports       '"
      ]
     },
     "execution_count": 117,
     "metadata": {},
     "output_type": "execute_result"
    }
   ],
   "source": [
    "# find element on specific class and extract the text out of it.\n",
    "article_titel = my_soup.find(class_='moat-trackable pb-f-theme-normal pb-f-dehydrate-false pb-f-async-false full pb-feature pb-layout-item pb-f-article-article-topper')\n",
    "article_title_text = article_titel.text\n",
    "article_title_text"
   ]
  },
  {
   "cell_type": "code",
   "execution_count": 119,
   "metadata": {},
   "outputs": [
    {
     "data": {
      "text/plain": [
       "'hulu\\'s take on the skinny tv bundle may be coming soon to a screen near you. according to a , the online streaming service is looking into offering live-streaming content from a handful of cable channels as part of a\\xa0service that could cost about $40 per month. hulu is owned by fox, disney and nbcuniversal; the journal report said that fox and disney are close to closing deals to offer their channels through the service. that would give subscribers access to abc, the disney channel and espn as well as fox news and \"national and regional sports channels,\" the report said. the new service could launch in the first quarter of 2017 and would also include a digital dvr service, the journal said. the new york times reported the service  as hulu makes its annual pitch to advertisers.\\xa0hulu could not\\xa0immediately be reached for comment. for consumers, hulu\\'s reported move would offer yet another choice in the streaming world. according to a december survey from the , 1 in 7 americans have canceled their cable or satellite subscription. a report\\xa0done around the\\xa0 suggests\\xa0that the rate at which americans cut the cable cord is growing. in fact, the firm forecast that\\xa0the number of americans subscribing to cable or satellite television will drop below 100 million by the end of 2016. many companies have targeted cord-cutters. but the landscape has become confusing. it can be very difficult to figure out which service carries the content you want. also, content\\xa0agreements with\\xa0streaming services expire from month to month, sometimes leaving consumers with a subscription that no longer gets them the programming that they want. and some channels, such as hbo, offer their programming both as standalone services and within bundles. all of those subscription options can add up over time. given its expected\\xa0price, the\\xa0hulu package would be a competitor for other services that offer a mix of on-demand and live content such as sony\\'s $30-per-month playstation vue and dish\\'s $20-per-month sling tv.\\xa0both offer a basic package of channels, with the option to\\xa0add\\xa0additional channels for an extra monthly fee.   has racked up the subscriber numbers of netflix or even hulu — although they launched only last year. but the opportunity to see some shows live has some appeal to consumers\\xa0— particularly sports fans\\xa0— who may want something more than an on-demand library. working out the deals to provide such a service is\\xa0not easy. apple was said to be on the verge of announcing a similar service\\xa0for its, but those plans fell through. hulu, with its close ties to the networks, may stand a far better chance of making these deals work. however, hulu\\xa0will still need to offer its own original programming to stand out\\xa0from the pack, said\\xa0larry chiagouris, a professor of marketing at pace university’s lubin school of business. \"fox and disney content will be a very strong beginning for the new service. however, since that programming can be obtained in other ways, hulu will need to do more than offer fox and disney content.\"'"
      ]
     },
     "execution_count": 119,
     "metadata": {},
     "output_type": "execute_result"
    }
   ],
   "source": [
    "# Remove the <a href tags from the Soup\n",
    "for link in my_soup.find_all('a'): \n",
    "    link.decompose()\n",
    "\n",
    "# find_all the <p> elements from the soup and extract the text of those elements and combine them into one string and \n",
    "# convert it into lowercase.\n",
    "article_contents_text = ' '.join(map(lambda p: p.text, my_soup.find_all('p')))\n",
    "article_contents_text = article_contents_text.lower()\n",
    "article_contents_text"
   ]
  },
  {
   "cell_type": "code",
   "execution_count": 120,
   "metadata": {},
   "outputs": [],
   "source": [
    "# Create the list of stop words and punctuation\n",
    "list_of_punctuation =  list(punctuation)\n",
    "english_stops = set(stopwords.words('english') + list_of_punctuation)"
   ]
  },
  {
   "cell_type": "code",
   "execution_count": 51,
   "metadata": {},
   "outputs": [
    {
     "name": "stdout",
     "output_type": "stream",
     "text": [
      "579\n"
     ]
    }
   ],
   "source": [
    "# tokenize the contents of article , it will generate list and check its length\n",
    "tokenized_words_article_contents_text = word_tokenize(article_contents_text)\n",
    "print(len(tokenized_words_article_contents_text))"
   ]
  },
  {
   "cell_type": "code",
   "execution_count": 52,
   "metadata": {},
   "outputs": [],
   "source": [
    "# Lets clean the tokens by removing stop words , punctuation and text with lengh on 1\n",
    "cleaned_tokenized_words_article_contents_generator = (word for word in tokenized_words_article_contents_text if word not in english_stops and len(word) > 1 )"
   ]
  },
  {
   "cell_type": "code",
   "execution_count": 53,
   "metadata": {},
   "outputs": [
    {
     "name": "stdout",
     "output_type": "stream",
     "text": [
      "301\n"
     ]
    }
   ],
   "source": [
    "# convert generator into list\n",
    "x = 0\n",
    "cleaned_tokenized_words_article_contents_list = list()\n",
    "for word in cleaned_tokenized_words_article_contents_generator:\n",
    "    x = x + 1\n",
    "    cleaned_tokenized_words_article_contents_list.append(word)\n",
    "print(x)"
   ]
  },
  {
   "cell_type": "code",
   "execution_count": 54,
   "metadata": {},
   "outputs": [],
   "source": [
    "# check the frequency of words from cleaned tokanized text of article contents\n",
    "Freq_dist_dict = nltk.FreqDist(cleaned_tokenized_words_article_contents_list)"
   ]
  },
  {
   "cell_type": "code",
   "execution_count": 55,
   "metadata": {},
   "outputs": [
    {
     "data": {
      "text/plain": [
       "FreqDist({'hulu': 10, 'service': 10, 'offer': 7, 'content': 6, 'channels': 6, 'fox': 5, 'disney': 5, 'said': 5, \"'s\": 4, 'cable': 4, ...})"
      ]
     },
     "execution_count": 55,
     "metadata": {},
     "output_type": "execute_result"
    }
   ],
   "source": [
    "Freq_dist_dict"
   ]
  },
  {
   "cell_type": "code",
   "execution_count": 46,
   "metadata": {},
   "outputs": [
    {
     "data": {
      "image/png": "[encoded data removed]",
      "text/plain": [
       "<Figure size 432x288 with 1 Axes>"
      ]
     },
     "metadata": {},
     "output_type": "display_data"
    }
   ],
   "source": [
    "Freq_dist_dict.plot(15, cumulative=False)"
   ]
  },
  {
   "cell_type": "code",
   "execution_count": 56,
   "metadata": {},
   "outputs": [
    {
     "name": "stdout",
     "output_type": "stream",
     "text": [
      "hulu = 10\n",
      "'s = 4\n",
      "take = 1\n",
      "skinny = 1\n",
      "tv = 2\n",
      "bundle = 1\n",
      "may = 3\n",
      "coming = 1\n",
      "soon = 1\n",
      "screen = 1\n",
      "near = 1\n",
      "according = 2\n",
      "online = 1\n",
      "streaming = 3\n",
      "service = 10\n",
      "looking = 1\n",
      "offering = 1\n",
      "live-streaming = 1\n",
      "content = 6\n",
      "handful = 1\n",
      "cable = 4\n",
      "channels = 6\n",
      "part = 1\n",
      "could = 3\n",
      "cost = 1\n",
      "40 = 1\n",
      "per = 1\n",
      "month = 3\n",
      "owned = 1\n",
      "fox = 5\n",
      "disney = 5\n",
      "nbcuniversal = 1\n",
      "journal = 2\n",
      "report = 3\n",
      "said = 5\n",
      "close = 2\n",
      "closing = 1\n",
      "deals = 3\n",
      "offer = 7\n",
      "would = 4\n",
      "give = 1\n",
      "subscribers = 1\n",
      "access = 1\n",
      "abc = 1\n",
      "channel = 1\n",
      "espn = 1\n",
      "well = 1\n",
      "news = 1\n",
      "`` = 2\n",
      "national = 1\n",
      "regional = 1\n",
      "sports = 2\n",
      "'' = 2\n",
      "new = 3\n",
      "launch = 1\n",
      "first = 1\n",
      "quarter = 1\n",
      "2017 = 1\n",
      "also = 2\n",
      "include = 1\n",
      "digital = 1\n",
      "dvr = 1\n",
      "york = 1\n",
      "times = 1\n",
      "reported = 2\n",
      "makes = 1\n",
      "annual = 1\n",
      "pitch = 1\n",
      "advertisers = 1\n",
      "immediately = 1\n",
      "reached = 1\n",
      "comment = 1\n",
      "consumers = 3\n",
      "move = 1\n",
      "yet = 1\n",
      "another = 1\n",
      "choice = 1\n",
      "world = 1\n",
      "december = 1\n",
      "survey = 1\n",
      "americans = 3\n",
      "canceled = 1\n",
      "satellite = 2\n",
      "subscription = 3\n",
      "done = 1\n",
      "around = 1\n",
      "suggests = 1\n",
      "rate = 1\n",
      "cut = 1\n",
      "cord = 1\n",
      "growing = 1\n",
      "fact = 1\n",
      "firm = 1\n",
      "forecast = 1\n",
      "number = 1\n",
      "subscribing = 1\n",
      "television = 1\n",
      "drop = 1\n",
      "100 = 1\n",
      "million = 1\n",
      "end = 1\n",
      "2016. = 1\n",
      "many = 1\n",
      "companies = 1\n",
      "targeted = 1\n",
      "cord-cutters = 1\n",
      "landscape = 1\n",
      "become = 1\n",
      "confusing = 1\n",
      "difficult = 1\n",
      "figure = 1\n",
      "carries = 1\n",
      "want = 3\n",
      "agreements = 1\n",
      "services = 3\n",
      "expire = 1\n",
      "sometimes = 1\n",
      "leaving = 1\n",
      "longer = 1\n",
      "gets = 1\n",
      "programming = 4\n",
      "hbo = 1\n",
      "standalone = 1\n",
      "within = 1\n",
      "bundles = 1\n",
      "options = 1\n",
      "add = 2\n",
      "time = 1\n",
      "given = 1\n",
      "expected = 1\n",
      "price = 1\n",
      "package = 2\n",
      "competitor = 1\n",
      "mix = 1\n",
      "on-demand = 2\n",
      "live = 2\n",
      "sony = 1\n",
      "30-per-month = 1\n",
      "playstation = 1\n",
      "vue = 1\n",
      "dish = 1\n",
      "20-per-month = 1\n",
      "sling = 1\n",
      "basic = 1\n",
      "option = 1\n",
      "additional = 1\n",
      "extra = 1\n",
      "monthly = 1\n",
      "fee = 1\n",
      "racked = 1\n",
      "subscriber = 1\n",
      "numbers = 1\n",
      "netflix = 1\n",
      "even = 1\n",
      "although = 1\n",
      "launched = 1\n",
      "last = 1\n",
      "year = 1\n",
      "opportunity = 1\n",
      "see = 1\n",
      "shows = 1\n",
      "appeal = 1\n",
      "particularly = 1\n",
      "fans = 1\n",
      "something = 1\n",
      "library = 1\n",
      "working = 1\n",
      "provide = 1\n",
      "easy = 1\n",
      "apple = 1\n",
      "verge = 1\n",
      "announcing = 1\n",
      "similar = 1\n",
      "plans = 1\n",
      "fell = 1\n",
      "ties = 1\n",
      "networks = 1\n",
      "stand = 2\n",
      "far = 1\n",
      "better = 1\n",
      "chance = 1\n",
      "making = 1\n",
      "work = 1\n",
      "however = 2\n",
      "still = 1\n",
      "need = 2\n",
      "original = 1\n",
      "pack = 1\n",
      "larry = 1\n",
      "chiagouris = 1\n",
      "professor = 1\n",
      "marketing = 1\n",
      "pace = 1\n",
      "university = 1\n",
      "lubin = 1\n",
      "school = 1\n",
      "business = 1\n",
      "strong = 1\n",
      "beginning = 1\n",
      "since = 1\n",
      "obtained = 1\n",
      "ways = 1\n"
     ]
    }
   ],
   "source": [
    "for key,value in Freq_dist_dict.items():\n",
    "    print(key, \"=\", value)"
   ]
  },
  {
   "cell_type": "code",
   "execution_count": 58,
   "metadata": {},
   "outputs": [
    {
     "data": {
      "text/plain": [
       "[\"hulu's take on the skinny tv bundle may be coming soon to a screen near you.\",\n",
       " 'according to a , the online streaming service is looking into offering live-streaming content from a handful of cable channels as part of a\\xa0service that could cost about $40 per month.',\n",
       " 'hulu is owned by fox, disney and nbcuniversal; the journal report said that fox and disney are close to closing deals to offer their channels through the service.',\n",
       " 'that would give subscribers access to abc, the disney channel and espn as well as fox news and \"national and regional sports channels,\" the report said.',\n",
       " 'the new service could launch in the first quarter of 2017 and would also include a digital dvr service, the journal said.',\n",
       " 'the new york times reported the service  as hulu makes its annual pitch to advertisers.',\n",
       " 'hulu could not\\xa0immediately be reached for comment.',\n",
       " \"for consumers, hulu's reported move would offer yet another choice in the streaming world.\",\n",
       " 'according to a december survey from the , 1 in 7 americans have canceled their cable or satellite subscription.',\n",
       " 'a report\\xa0done around the\\xa0 suggests\\xa0that the rate at which americans cut the cable cord is growing.',\n",
       " 'in fact, the firm forecast that\\xa0the number of americans subscribing to cable or satellite television will drop below 100 million by the end of 2016. many companies have targeted cord-cutters.',\n",
       " 'but the landscape has become confusing.',\n",
       " 'it can be very difficult to figure out which service carries the content you want.',\n",
       " 'also, content\\xa0agreements with\\xa0streaming services expire from month to month, sometimes leaving consumers with a subscription that no longer gets them the programming that they want.',\n",
       " 'and some channels, such as hbo, offer their programming both as standalone services and within bundles.',\n",
       " 'all of those subscription options can add up over time.',\n",
       " \"given its expected\\xa0price, the\\xa0hulu package would be a competitor for other services that offer a mix of on-demand and live content such as sony's $30-per-month playstation vue and dish's $20-per-month sling tv.\",\n",
       " 'both offer a basic package of channels, with the option to\\xa0add\\xa0additional channels for an extra monthly fee.',\n",
       " 'has racked up the subscriber numbers of netflix or even hulu — although they launched only last year.',\n",
       " 'but the opportunity to see some shows live has some appeal to consumers\\xa0— particularly sports fans\\xa0— who may want something more than an on-demand library.',\n",
       " 'working out the deals to provide such a service is\\xa0not easy.',\n",
       " 'apple was said to be on the verge of announcing a similar service\\xa0for its, but those plans fell through.',\n",
       " 'hulu, with its close ties to the networks, may stand a far better chance of making these deals work.',\n",
       " 'however, hulu\\xa0will still need to offer its own original programming to stand out\\xa0from the pack, said\\xa0larry chiagouris, a professor of marketing at pace university’s lubin school of business.',\n",
       " '\"fox and disney content will be a very strong beginning for the new service.',\n",
       " 'however, since that programming can be obtained in other ways, hulu will need to do more than offer fox and disney content.\"']"
      ]
     },
     "execution_count": 58,
     "metadata": {},
     "output_type": "execute_result"
    }
   ],
   "source": [
    "# lets convert artcile contents into sentences.\n",
    "sents = sent_tokenize(article_contents_text)\n",
    "sents"
   ]
  },
  {
   "cell_type": "code",
   "execution_count": 86,
   "metadata": {},
   "outputs": [],
   "source": [
    "# now further tokenize sentences list into words tokens \n",
    "word_sent = [word_tokenize(s.lower()) for s in sents]"
   ]
  },
  {
   "cell_type": "code",
   "execution_count": 87,
   "metadata": {},
   "outputs": [],
   "source": [
    "# assign a number to every tokens of every sentence list\n",
    "marked_list_of_sentences = list(enumerate(word_sent))"
   ]
  },
  {
   "cell_type": "code",
   "execution_count": 88,
   "metadata": {},
   "outputs": [
    {
     "name": "stdout",
     "output_type": "stream",
     "text": [
      "0 ['hulu', \"'s\", 'take', 'on', 'the', 'skinny', 'tv', 'bundle', 'may', 'be', 'coming', 'soon', 'to', 'a', 'screen', 'near', 'you', '.']\n",
      "1 ['according', 'to', 'a', ',', 'the', 'online', 'streaming', 'service', 'is', 'looking', 'into', 'offering', 'live-streaming', 'content', 'from', 'a', 'handful', 'of', 'cable', 'channels', 'as', 'part', 'of', 'a', 'service', 'that', 'could', 'cost', 'about', '$', '40', 'per', 'month', '.']\n",
      "2 ['hulu', 'is', 'owned', 'by', 'fox', ',', 'disney', 'and', 'nbcuniversal', ';', 'the', 'journal', 'report', 'said', 'that', 'fox', 'and', 'disney', 'are', 'close', 'to', 'closing', 'deals', 'to', 'offer', 'their', 'channels', 'through', 'the', 'service', '.']\n",
      "3 ['that', 'would', 'give', 'subscribers', 'access', 'to', 'abc', ',', 'the', 'disney', 'channel', 'and', 'espn', 'as', 'well', 'as', 'fox', 'news', 'and', '``', 'national', 'and', 'regional', 'sports', 'channels', ',', \"''\", 'the', 'report', 'said', '.']\n",
      "4 ['the', 'new', 'service', 'could', 'launch', 'in', 'the', 'first', 'quarter', 'of', '2017', 'and', 'would', 'also', 'include', 'a', 'digital', 'dvr', 'service', ',', 'the', 'journal', 'said', '.']\n",
      "5 ['the', 'new', 'york', 'times', 'reported', 'the', 'service', 'as', 'hulu', 'makes', 'its', 'annual', 'pitch', 'to', 'advertisers', '.']\n",
      "6 ['hulu', 'could', 'not', 'immediately', 'be', 'reached', 'for', 'comment', '.']\n",
      "7 ['for', 'consumers', ',', 'hulu', \"'s\", 'reported', 'move', 'would', 'offer', 'yet', 'another', 'choice', 'in', 'the', 'streaming', 'world', '.']\n",
      "8 ['according', 'to', 'a', 'december', 'survey', 'from', 'the', ',', '1', 'in', '7', 'americans', 'have', 'canceled', 'their', 'cable', 'or', 'satellite', 'subscription', '.']\n",
      "9 ['a', 'report', 'done', 'around', 'the', 'suggests', 'that', 'the', 'rate', 'at', 'which', 'americans', 'cut', 'the', 'cable', 'cord', 'is', 'growing', '.']\n",
      "10 ['in', 'fact', ',', 'the', 'firm', 'forecast', 'that', 'the', 'number', 'of', 'americans', 'subscribing', 'to', 'cable', 'or', 'satellite', 'television', 'will', 'drop', 'below', '100', 'million', 'by', 'the', 'end', 'of', '2016.', 'many', 'companies', 'have', 'targeted', 'cord-cutters', '.']\n",
      "11 ['but', 'the', 'landscape', 'has', 'become', 'confusing', '.']\n",
      "12 ['it', 'can', 'be', 'very', 'difficult', 'to', 'figure', 'out', 'which', 'service', 'carries', 'the', 'content', 'you', 'want', '.']\n",
      "13 ['also', ',', 'content', 'agreements', 'with', 'streaming', 'services', 'expire', 'from', 'month', 'to', 'month', ',', 'sometimes', 'leaving', 'consumers', 'with', 'a', 'subscription', 'that', 'no', 'longer', 'gets', 'them', 'the', 'programming', 'that', 'they', 'want', '.']\n",
      "14 ['and', 'some', 'channels', ',', 'such', 'as', 'hbo', ',', 'offer', 'their', 'programming', 'both', 'as', 'standalone', 'services', 'and', 'within', 'bundles', '.']\n",
      "15 ['all', 'of', 'those', 'subscription', 'options', 'can', 'add', 'up', 'over', 'time', '.']\n",
      "16 ['given', 'its', 'expected', 'price', ',', 'the', 'hulu', 'package', 'would', 'be', 'a', 'competitor', 'for', 'other', 'services', 'that', 'offer', 'a', 'mix', 'of', 'on-demand', 'and', 'live', 'content', 'such', 'as', 'sony', \"'s\", '$', '30-per-month', 'playstation', 'vue', 'and', 'dish', \"'s\", '$', '20-per-month', 'sling', 'tv', '.']\n",
      "17 ['both', 'offer', 'a', 'basic', 'package', 'of', 'channels', ',', 'with', 'the', 'option', 'to', 'add', 'additional', 'channels', 'for', 'an', 'extra', 'monthly', 'fee', '.']\n",
      "18 ['has', 'racked', 'up', 'the', 'subscriber', 'numbers', 'of', 'netflix', 'or', 'even', 'hulu', '—', 'although', 'they', 'launched', 'only', 'last', 'year', '.']\n",
      "19 ['but', 'the', 'opportunity', 'to', 'see', 'some', 'shows', 'live', 'has', 'some', 'appeal', 'to', 'consumers', '—', 'particularly', 'sports', 'fans', '—', 'who', 'may', 'want', 'something', 'more', 'than', 'an', 'on-demand', 'library', '.']\n",
      "20 ['working', 'out', 'the', 'deals', 'to', 'provide', 'such', 'a', 'service', 'is', 'not', 'easy', '.']\n",
      "21 ['apple', 'was', 'said', 'to', 'be', 'on', 'the', 'verge', 'of', 'announcing', 'a', 'similar', 'service', 'for', 'its', ',', 'but', 'those', 'plans', 'fell', 'through', '.']\n",
      "22 ['hulu', ',', 'with', 'its', 'close', 'ties', 'to', 'the', 'networks', ',', 'may', 'stand', 'a', 'far', 'better', 'chance', 'of', 'making', 'these', 'deals', 'work', '.']\n",
      "23 ['however', ',', 'hulu', 'will', 'still', 'need', 'to', 'offer', 'its', 'own', 'original', 'programming', 'to', 'stand', 'out', 'from', 'the', 'pack', ',', 'said', 'larry', 'chiagouris', ',', 'a', 'professor', 'of', 'marketing', 'at', 'pace', 'university', '’', 's', 'lubin', 'school', 'of', 'business', '.']\n",
      "24 ['``', 'fox', 'and', 'disney', 'content', 'will', 'be', 'a', 'very', 'strong', 'beginning', 'for', 'the', 'new', 'service', '.']\n",
      "25 ['however', ',', 'since', 'that', 'programming', 'can', 'be', 'obtained', 'in', 'other', 'ways', ',', 'hulu', 'will', 'need', 'to', 'do', 'more', 'than', 'offer', 'fox', 'and', 'disney', 'content', '.', \"''\"]\n"
     ]
    }
   ],
   "source": [
    "for number,sentence in marked_list_of_sentences:\n",
    "    print(number , sentence)"
   ]
  },
  {
   "cell_type": "code",
   "execution_count": 121,
   "metadata": {},
   "outputs": [
    {
     "data": {
      "text/plain": [
       "defaultdict(int, {})"
      ]
     },
     "execution_count": 121,
     "metadata": {},
     "output_type": "execute_result"
    }
   ],
   "source": [
    "# intialike ranking where we will store rank/marks for every line . and default value of this will be zero.\n",
    "ranking = defaultdict(int)\n",
    "ranking\n"
   ]
  },
  {
   "cell_type": "code",
   "execution_count": 122,
   "metadata": {},
   "outputs": [
    {
     "name": "stdout",
     "output_type": "stream",
     "text": [
      "defaultdict(<class 'int'>, {0: 26, 1: 56, 2: 71, 3: 44, 4: 46, 5: 31, 6: 16, 7: 38, 8: 17, 9: 17, 10: 24, 11: 3, 12: 22, 13: 39, 14: 24, 15: 7, 16: 58, 17: 29, 18: 19, 19: 23, 20: 16, 21: 21, 22: 27, 23: 44, 24: 33, 25: 46})\n"
     ]
    }
   ],
   "source": [
    "# lets calculate the importance of every line and store it in ranking\n",
    "for number, sent in marked_list_of_sentences:\n",
    "    for word in sent:\n",
    "        if word in list(Freq_dist_dict.keys()):\n",
    "            ranking[number] += Freq_dist_dict[word]\n",
    "print(ranking)\n"
   ]
  },
  {
   "cell_type": "code",
   "execution_count": 125,
   "metadata": {},
   "outputs": [
    {
     "data": {
      "text/plain": [
       "[2, 16, 1]"
      ]
     },
     "execution_count": 125,
     "metadata": {},
     "output_type": "execute_result"
    }
   ],
   "source": [
    "# pick the 3 most important lines.\n",
    "sents_idx = nlargest(3,ranking, key = ranking.get)\n",
    "sents_idx"
   ]
  },
  {
   "cell_type": "code",
   "execution_count": 128,
   "metadata": {},
   "outputs": [
    {
     "name": "stdout",
     "output_type": "stream",
     "text": [
      "hulu is owned by fox, disney and nbcuniversal; the journal report said that fox and disney are close to closing deals to offer their channels through the service.\n",
      "____________________\n",
      "given its expected price, the hulu package would be a competitor for other services that offer a mix of on-demand and live content such as sony's $30-per-month playstation vue and dish's $20-per-month sling tv.\n",
      "____________________\n",
      "according to a , the online streaming service is looking into offering live-streaming content from a handful of cable channels as part of a service that could cost about $40 per month.\n",
      "____________________\n"
     ]
    }
   ],
   "source": [
    "# print the 3 most important Lines .\n",
    "for linenumber in sents_idx:\n",
    "    print(sents[linenumber])\n",
    "    print(\"____________________\")"
   ]
  }
 ],
 "metadata": {
  "kernelspec": {
   "display_name": "Python 3",
   "language": "python",
   "name": "python3"
  },
  "language_info": {
   "codemirror_mode": {
    "name": "ipython",
    "version": 3
   },
   "file_extension": ".py",
   "mimetype": "text/x-python",
   "name": "python",
   "nbconvert_exporter": "python",
   "pygments_lexer": "ipython3",
   "version": "3.6.5"
  }
 },
 "nbformat": 4,
 "nbformat_minor": 2
}
